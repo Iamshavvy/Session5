{
 "cells": [
  {
   "cell_type": "code",
   "execution_count": 1,
   "id": "0d0d1f40",
   "metadata": {},
   "outputs": [],
   "source": [
    "a = (5)"
   ]
  },
  {
   "cell_type": "code",
   "execution_count": 2,
   "id": "f648f2be",
   "metadata": {},
   "outputs": [],
   "source": [
    "b = (2*5) + 5"
   ]
  },
  {
   "cell_type": "code",
   "execution_count": 3,
   "id": "cb9c6518",
   "metadata": {},
   "outputs": [
    {
     "name": "stdout",
     "output_type": "stream",
     "text": [
      "5 15\n"
     ]
    }
   ],
   "source": [
    "print(a, b)"
   ]
  },
  {
   "cell_type": "code",
   "execution_count": 4,
   "id": "aafaa73e",
   "metadata": {},
   "outputs": [],
   "source": [
    "a = (5,)"
   ]
  },
  {
   "cell_type": "code",
   "execution_count": 5,
   "id": "02f63648",
   "metadata": {},
   "outputs": [
    {
     "data": {
      "text/plain": [
       "(5,)"
      ]
     },
     "execution_count": 5,
     "metadata": {},
     "output_type": "execute_result"
    }
   ],
   "source": [
    "a"
   ]
  },
  {
   "cell_type": "code",
   "execution_count": 6,
   "id": "c3328456",
   "metadata": {},
   "outputs": [
    {
     "data": {
      "text/plain": [
       "tuple"
      ]
     },
     "execution_count": 6,
     "metadata": {},
     "output_type": "execute_result"
    }
   ],
   "source": [
    "type(a)"
   ]
  },
  {
   "cell_type": "code",
   "execution_count": null,
   "id": "39ee84c2",
   "metadata": {},
   "outputs": [],
   "source": [
    "def fn_name():\n",
    "    pass"
   ]
  },
  {
   "cell_type": "code",
   "execution_count": 7,
   "id": "1f7550ad",
   "metadata": {},
   "outputs": [],
   "source": [
    "class Employee:\n",
    "    \n",
    "    def __init__(self, ID, Name):\n",
    "        self.ID = ID\n",
    "        self.Name = Name\n",
    "    \n",
    "    def add_salary(self, sal):\n",
    "        self.salary = sal\n",
    "    \n",
    "    def increment(self, inc):\n",
    "        self.salary = self.salary + self.salary * inc / 100"
   ]
  },
  {
   "cell_type": "code",
   "execution_count": 8,
   "id": "a4d47c08",
   "metadata": {},
   "outputs": [],
   "source": [
    "emp1 = Employee(1001, \"Kumar\")"
   ]
  },
  {
   "cell_type": "code",
   "execution_count": 9,
   "id": "17ef95e4",
   "metadata": {},
   "outputs": [
    {
     "data": {
      "text/plain": [
       "1001"
      ]
     },
     "execution_count": 9,
     "metadata": {},
     "output_type": "execute_result"
    }
   ],
   "source": [
    "emp1.ID"
   ]
  },
  {
   "cell_type": "code",
   "execution_count": 10,
   "id": "ae47bbd0",
   "metadata": {},
   "outputs": [
    {
     "data": {
      "text/plain": [
       "'Kumar'"
      ]
     },
     "execution_count": 10,
     "metadata": {},
     "output_type": "execute_result"
    }
   ],
   "source": [
    "emp1.Name"
   ]
  },
  {
   "cell_type": "code",
   "execution_count": 11,
   "id": "1d944c75",
   "metadata": {},
   "outputs": [],
   "source": [
    "emp1.add_salary(10000)"
   ]
  },
  {
   "cell_type": "code",
   "execution_count": 12,
   "id": "850468fe",
   "metadata": {},
   "outputs": [
    {
     "data": {
      "text/plain": [
       "10000"
      ]
     },
     "execution_count": 12,
     "metadata": {},
     "output_type": "execute_result"
    }
   ],
   "source": [
    "emp1.salary"
   ]
  },
  {
   "cell_type": "code",
   "execution_count": 13,
   "id": "e578b061",
   "metadata": {},
   "outputs": [],
   "source": [
    "emp2 = Employee(1002, \"Priya\")"
   ]
  },
  {
   "cell_type": "code",
   "execution_count": 14,
   "id": "1229adcb",
   "metadata": {},
   "outputs": [],
   "source": [
    "emp2.add_salary(12000)"
   ]
  },
  {
   "cell_type": "code",
   "execution_count": 21,
   "id": "b6bd97e9",
   "metadata": {},
   "outputs": [],
   "source": [
    "class Manager(Employee):\n",
    "    \n",
    "    def __init__(self, *args, **kwargs):\n",
    "        super().__init__(*args, **kwargs)\n",
    "        self.reportees = []\n",
    "    \n",
    "    def add_reportee(self, rep):\n",
    "        self.reportees.append(rep)"
   ]
  },
  {
   "cell_type": "code",
   "execution_count": 22,
   "id": "ff085849",
   "metadata": {},
   "outputs": [],
   "source": [
    "mgr1 = Manager(1002, \"Divya\")"
   ]
  },
  {
   "cell_type": "code",
   "execution_count": 23,
   "id": "2e26d0b1",
   "metadata": {},
   "outputs": [],
   "source": [
    "mgr1.add_salary(13000)"
   ]
  },
  {
   "cell_type": "code",
   "execution_count": 24,
   "id": "3ec3687f",
   "metadata": {},
   "outputs": [
    {
     "data": {
      "text/plain": [
       "[]"
      ]
     },
     "execution_count": 24,
     "metadata": {},
     "output_type": "execute_result"
    }
   ],
   "source": [
    "mgr1.reportees"
   ]
  },
  {
   "cell_type": "code",
   "execution_count": 25,
   "id": "0438e074",
   "metadata": {},
   "outputs": [],
   "source": [
    "mgr1.add_reportee(\"Kumar\")"
   ]
  },
  {
   "cell_type": "code",
   "execution_count": 26,
   "id": "0aeee9f3",
   "metadata": {},
   "outputs": [
    {
     "data": {
      "text/plain": [
       "['Kumar']"
      ]
     },
     "execution_count": 26,
     "metadata": {},
     "output_type": "execute_result"
    }
   ],
   "source": [
    "mgr1.reportees"
   ]
  },
  {
   "cell_type": "code",
   "execution_count": 27,
   "id": "c52923fc",
   "metadata": {},
   "outputs": [],
   "source": [
    "mgr1.add_reportee(\"Priya\")"
   ]
  },
  {
   "cell_type": "code",
   "execution_count": 28,
   "id": "251b4b89",
   "metadata": {},
   "outputs": [
    {
     "data": {
      "text/plain": [
       "['Kumar', 'Priya']"
      ]
     },
     "execution_count": 28,
     "metadata": {},
     "output_type": "execute_result"
    }
   ],
   "source": [
    "mgr1.reportees"
   ]
  },
  {
   "cell_type": "code",
   "execution_count": 50,
   "id": "8bd4471e",
   "metadata": {},
   "outputs": [],
   "source": [
    "class Electronics:\n",
    "    \n",
    "    def __init__(self, Name, Price, Brand, SaleDate):\n",
    "        self.Name = Name\n",
    "        self.Price = Price\n",
    "        self.Brand = Brand\n",
    "        self.SaleDate = datetime.datetime.strptime(SaleDate, \"%d-%m-%Y\").date()\n",
    "        \n",
    "    def warranty_claim(self):\n",
    "        td = (datetime.datetime.today().date() - self.SaleDate).days\n",
    "        if td < 180:\n",
    "            print(\"Under Warranty\")\n",
    "        else:\n",
    "            print(\"Warranty Expired\")"
   ]
  },
  {
   "cell_type": "code",
   "execution_count": 55,
   "id": "7422a066",
   "metadata": {},
   "outputs": [],
   "source": [
    "class Mobiles(Electronics):\n",
    "    \n",
    "    def __init__(self, ram, pixels, *args, **kwargs):\n",
    "        super().__init__(*args, **kwargs)\n",
    "        self.ram = ram\n",
    "        self.pixels = pixels\n",
    "    "
   ]
  },
  {
   "cell_type": "code",
   "execution_count": 56,
   "id": "c411086b",
   "metadata": {},
   "outputs": [],
   "source": [
    "Iphone14 = Mobiles(Name=\"Iphone14\", Price=75000, Brand=\"Apple\",\n",
    "                  SaleDate=\"14-03-2022\", ram=8, pixels=48)"
   ]
  },
  {
   "cell_type": "code",
   "execution_count": 58,
   "id": "1d16e00a",
   "metadata": {},
   "outputs": [
    {
     "name": "stdout",
     "output_type": "stream",
     "text": [
      "Warranty Expired\n"
     ]
    }
   ],
   "source": [
    "Iphone14.warranty_claim()"
   ]
  },
  {
   "cell_type": "code",
   "execution_count": 59,
   "id": "25fd344d",
   "metadata": {},
   "outputs": [],
   "source": [
    "class Mobiles(Electronics):\n",
    "    \n",
    "    def __init__(self, ram, pixels, *args, **kwargs):\n",
    "        super().__init__(*args, **kwargs)\n",
    "        self.ram = ram\n",
    "        self.pixels = pixels\n",
    "    \n",
    "    def warranty_claim(self):\n",
    "        td = (datetime.datetime.today().date() - self.SaleDate).days\n",
    "        if td < 360:\n",
    "            print(\"Under Warranty\")\n",
    "        else:\n",
    "            print(\"Warranty Expired\")"
   ]
  },
  {
   "cell_type": "code",
   "execution_count": 60,
   "id": "89278ff9",
   "metadata": {},
   "outputs": [],
   "source": [
    "Iphone14 = Mobiles(Name=\"Iphone14\", Price=75000, Brand=\"Apple\",\n",
    "                  SaleDate=\"14-03-2022\", ram=8, pixels=48)"
   ]
  },
  {
   "cell_type": "code",
   "execution_count": 61,
   "id": "4e944d62",
   "metadata": {},
   "outputs": [
    {
     "name": "stdout",
     "output_type": "stream",
     "text": [
      "Under Warranty\n"
     ]
    }
   ],
   "source": [
    "Iphone14.warranty_claim()"
   ]
  },
  {
   "cell_type": "code",
   "execution_count": 62,
   "id": "5dae0a80",
   "metadata": {},
   "outputs": [],
   "source": [
    "class SmartPhones(Mobiles):\n",
    "    \n",
    "    def __init__(self, *args, **kwargs):\n",
    "        super().__init__(*args, **kwargs)\n"
   ]
  },
  {
   "cell_type": "code",
   "execution_count": 63,
   "id": "8622ce6c",
   "metadata": {},
   "outputs": [],
   "source": [
    "SamsungGalaxy = SmartPhones(Name=\"Galaxy\", Price=45000, \n",
    "                            Brand=\"Samsung\", \n",
    "                            SaleDate=\"14-03-2022\", \n",
    "                            ram=8, pixels=48)"
   ]
  },
  {
   "cell_type": "code",
   "execution_count": 64,
   "id": "f4dc0def",
   "metadata": {},
   "outputs": [
    {
     "name": "stdout",
     "output_type": "stream",
     "text": [
      "Under Warranty\n"
     ]
    }
   ],
   "source": [
    "SamsungGalaxy.warranty_claim()"
   ]
  },
  {
   "cell_type": "code",
   "execution_count": null,
   "id": "6d3998d8",
   "metadata": {},
   "outputs": [],
   "source": [
    "# Example of multiple inheritance\n",
    "class herbivores:\n",
    "    pass\n",
    "\n",
    "class carnivores:\n",
    "    pass\n",
    "\n",
    "class omnivores(herbivores, carnivores):\n",
    "    pass"
   ]
  },
  {
   "cell_type": "code",
   "execution_count": 65,
   "id": "4b7ca3db",
   "metadata": {},
   "outputs": [],
   "source": [
    "class herbivores:\n",
    "    \n",
    "    def method1(self):\n",
    "        print(\"Herbivores\")\n",
    "\n",
    "class carnivores:\n",
    "    def method1(self):\n",
    "        print(\"Carnivores\")\n",
    "\n",
    "class omnivores(herbivores, carnivores):\n",
    "    pass"
   ]
  },
  {
   "cell_type": "code",
   "execution_count": 66,
   "id": "9c8a49f4",
   "metadata": {},
   "outputs": [],
   "source": [
    "lion = carnivores()\n",
    "elephant = herbivores()"
   ]
  },
  {
   "cell_type": "code",
   "execution_count": 67,
   "id": "ecce25b2",
   "metadata": {},
   "outputs": [
    {
     "name": "stdout",
     "output_type": "stream",
     "text": [
      "Carnivores\n"
     ]
    }
   ],
   "source": [
    "lion.method1()"
   ]
  },
  {
   "cell_type": "code",
   "execution_count": 68,
   "id": "2266484d",
   "metadata": {},
   "outputs": [
    {
     "name": "stdout",
     "output_type": "stream",
     "text": [
      "Herbivores\n"
     ]
    }
   ],
   "source": [
    "elephant.method1()"
   ]
  },
  {
   "cell_type": "code",
   "execution_count": 69,
   "id": "ee63399d",
   "metadata": {},
   "outputs": [],
   "source": [
    "bear = omnivores()"
   ]
  },
  {
   "cell_type": "code",
   "execution_count": 70,
   "id": "628a6d50",
   "metadata": {},
   "outputs": [
    {
     "name": "stdout",
     "output_type": "stream",
     "text": [
      "Herbivores\n"
     ]
    }
   ],
   "source": [
    "bear.method1()"
   ]
  },
  {
   "cell_type": "code",
   "execution_count": 71,
   "id": "a0e08294",
   "metadata": {},
   "outputs": [],
   "source": [
    "class herbivores:\n",
    "    \n",
    "    def method1(self):\n",
    "        print(\"Herbivores\")\n",
    "\n",
    "class carnivores:\n",
    "    def method1(self):\n",
    "        print(\"Carnivores\")\n",
    "\n",
    "class omnivores(carnivores, herbivores):\n",
    "    pass"
   ]
  },
  {
   "cell_type": "code",
   "execution_count": 72,
   "id": "1b19fed1",
   "metadata": {},
   "outputs": [],
   "source": [
    "bear = omnivores()"
   ]
  },
  {
   "cell_type": "code",
   "execution_count": 73,
   "id": "e0e0cd90",
   "metadata": {},
   "outputs": [
    {
     "name": "stdout",
     "output_type": "stream",
     "text": [
      "Carnivores\n"
     ]
    }
   ],
   "source": [
    "bear.method1()"
   ]
  },
  {
   "cell_type": "code",
   "execution_count": 74,
   "id": "c1e46021",
   "metadata": {},
   "outputs": [],
   "source": [
    "from abc import ABC, abstractmethod"
   ]
  },
  {
   "cell_type": "code",
   "execution_count": 78,
   "id": "5c251012",
   "metadata": {},
   "outputs": [],
   "source": [
    "class sample(ABC):\n",
    "    \n",
    "    @abstractmethod\n",
    "    def Abstract_method(self):\n",
    "        print(\"Abstract method\")\n",
    "\n",
    "class child(sample):\n",
    "    \n",
    "    def Abstract_method(self):\n",
    "        print(\"Child Method\")"
   ]
  },
  {
   "cell_type": "code",
   "execution_count": 81,
   "id": "b70bb075",
   "metadata": {},
   "outputs": [],
   "source": [
    "obj1 = child()"
   ]
  },
  {
   "cell_type": "code",
   "execution_count": 82,
   "id": "65652dda",
   "metadata": {},
   "outputs": [
    {
     "name": "stdout",
     "output_type": "stream",
     "text": [
      "Child Method\n"
     ]
    }
   ],
   "source": [
    "obj1.Abstract_method()"
   ]
  },
  {
   "cell_type": "code",
   "execution_count": 83,
   "id": "e74c42fb",
   "metadata": {},
   "outputs": [
    {
     "ename": "TypeError",
     "evalue": "Can't instantiate abstract class sample with abstract method Abstract_method",
     "output_type": "error",
     "traceback": [
      "\u001b[0;31m---------------------------------------------------------------------------\u001b[0m",
      "\u001b[0;31mTypeError\u001b[0m                                 Traceback (most recent call last)",
      "\u001b[0;32m/var/folders/0x/8qbylcs945qcwxhy42nzt0340000gn/T/ipykernel_1364/3158427434.py\u001b[0m in \u001b[0;36m<module>\u001b[0;34m\u001b[0m\n\u001b[0;32m----> 1\u001b[0;31m \u001b[0mobj2\u001b[0m \u001b[0;34m=\u001b[0m \u001b[0msample\u001b[0m\u001b[0;34m(\u001b[0m\u001b[0;34m)\u001b[0m\u001b[0;34m\u001b[0m\u001b[0;34m\u001b[0m\u001b[0m\n\u001b[0m",
      "\u001b[0;31mTypeError\u001b[0m: Can't instantiate abstract class sample with abstract method Abstract_method"
     ]
    }
   ],
   "source": [
    "obj2 = sample()"
   ]
  },
  {
   "cell_type": "code",
   "execution_count": 91,
   "id": "e5b0c646",
   "metadata": {},
   "outputs": [],
   "source": [
    "class sample(ABC):\n",
    "    \n",
    "    @abstractmethod\n",
    "    def Abstract_method(self):\n",
    "        pass\n",
    "        \n",
    "    def print_(self):\n",
    "        print(\"Sample\")\n",
    "\n",
    "class child(sample):\n",
    "    \n",
    "    def Abstract_method(self):\n",
    "        print(\"Child Method\")"
   ]
  },
  {
   "cell_type": "code",
   "execution_count": 92,
   "id": "d51be11e",
   "metadata": {},
   "outputs": [],
   "source": [
    "obj2 = child()"
   ]
  },
  {
   "cell_type": "code",
   "execution_count": 93,
   "id": "77f5cd5c",
   "metadata": {},
   "outputs": [
    {
     "name": "stdout",
     "output_type": "stream",
     "text": [
      "Sample\n"
     ]
    }
   ],
   "source": [
    "obj2.print_()"
   ]
  },
  {
   "cell_type": "code",
   "execution_count": 94,
   "id": "94d34f80",
   "metadata": {},
   "outputs": [
    {
     "ename": "TypeError",
     "evalue": "Can't instantiate abstract class sample with abstract method Abstract_method",
     "output_type": "error",
     "traceback": [
      "\u001b[0;31m---------------------------------------------------------------------------\u001b[0m",
      "\u001b[0;31mTypeError\u001b[0m                                 Traceback (most recent call last)",
      "\u001b[0;32m/var/folders/0x/8qbylcs945qcwxhy42nzt0340000gn/T/ipykernel_1364/2850040557.py\u001b[0m in \u001b[0;36m<module>\u001b[0;34m\u001b[0m\n\u001b[0;32m----> 1\u001b[0;31m \u001b[0mobj3\u001b[0m \u001b[0;34m=\u001b[0m \u001b[0msample\u001b[0m\u001b[0;34m(\u001b[0m\u001b[0;34m)\u001b[0m\u001b[0;34m\u001b[0m\u001b[0;34m\u001b[0m\u001b[0m\n\u001b[0m",
      "\u001b[0;31mTypeError\u001b[0m: Can't instantiate abstract class sample with abstract method Abstract_method"
     ]
    }
   ],
   "source": [
    "obj3 = sample()"
   ]
  },
  {
   "cell_type": "code",
   "execution_count": 97,
   "id": "a117cab0",
   "metadata": {},
   "outputs": [],
   "source": [
    "class sample(ABC):\n",
    "    \n",
    "    @abstractmethod\n",
    "    def Print(self):\n",
    "        print(\"Abstract Method\")\n",
    "\n",
    "class child(sample):\n",
    "    \n",
    "    def Print(self):\n",
    "        super().Print()\n",
    "        print(\"child class\")"
   ]
  },
  {
   "cell_type": "code",
   "execution_count": 98,
   "id": "4d2281b9",
   "metadata": {},
   "outputs": [],
   "source": [
    "obj1 = child()"
   ]
  },
  {
   "cell_type": "code",
   "execution_count": 100,
   "id": "c164c550",
   "metadata": {},
   "outputs": [
    {
     "name": "stdout",
     "output_type": "stream",
     "text": [
      "Abstract Method\n",
      "child class\n"
     ]
    }
   ],
   "source": [
    "obj1.Print()"
   ]
  },
  {
   "cell_type": "code",
   "execution_count": 102,
   "id": "92f157e0",
   "metadata": {},
   "outputs": [],
   "source": [
    "class parent:\n",
    "    \n",
    "    def method1(self, name):\n",
    "        self.__name = name"
   ]
  },
  {
   "cell_type": "code",
   "execution_count": 103,
   "id": "e24df35e",
   "metadata": {},
   "outputs": [],
   "source": [
    "obj1 = parent()"
   ]
  },
  {
   "cell_type": "code",
   "execution_count": 104,
   "id": "8f7cc772",
   "metadata": {},
   "outputs": [],
   "source": [
    "obj1.method1(\"Kumar\")"
   ]
  },
  {
   "cell_type": "code",
   "execution_count": 106,
   "id": "fa17cc2e",
   "metadata": {},
   "outputs": [
    {
     "ename": "AttributeError",
     "evalue": "'parent' object has no attribute '__name'",
     "output_type": "error",
     "traceback": [
      "\u001b[0;31m---------------------------------------------------------------------------\u001b[0m",
      "\u001b[0;31mAttributeError\u001b[0m                            Traceback (most recent call last)",
      "\u001b[0;32m/var/folders/0x/8qbylcs945qcwxhy42nzt0340000gn/T/ipykernel_1364/2136428802.py\u001b[0m in \u001b[0;36m<module>\u001b[0;34m\u001b[0m\n\u001b[0;32m----> 1\u001b[0;31m \u001b[0mobj1\u001b[0m\u001b[0;34m.\u001b[0m\u001b[0m__name\u001b[0m\u001b[0;34m\u001b[0m\u001b[0;34m\u001b[0m\u001b[0m\n\u001b[0m",
      "\u001b[0;31mAttributeError\u001b[0m: 'parent' object has no attribute '__name'"
     ]
    }
   ],
   "source": [
    "obj1.__name"
   ]
  },
  {
   "cell_type": "code",
   "execution_count": 107,
   "id": "d258c2b7",
   "metadata": {},
   "outputs": [],
   "source": [
    "class parent:\n",
    "    \n",
    "    def method1(self, name):\n",
    "        self.__name = name\n",
    "        \n",
    "    def method2(self):\n",
    "        print(self.__name)\n"
   ]
  },
  {
   "cell_type": "code",
   "execution_count": 108,
   "id": "b49a17ec",
   "metadata": {},
   "outputs": [],
   "source": [
    "obj1 = parent()"
   ]
  },
  {
   "cell_type": "code",
   "execution_count": 110,
   "id": "a8992014",
   "metadata": {},
   "outputs": [],
   "source": [
    "obj1.method1(\"Kumar\")"
   ]
  },
  {
   "cell_type": "code",
   "execution_count": 112,
   "id": "136e1245",
   "metadata": {},
   "outputs": [
    {
     "name": "stdout",
     "output_type": "stream",
     "text": [
      "Kumar\n"
     ]
    }
   ],
   "source": [
    "obj1.method2()"
   ]
  },
  {
   "cell_type": "code",
   "execution_count": 113,
   "id": "ed81977d",
   "metadata": {},
   "outputs": [],
   "source": [
    "class parent:\n",
    "    \n",
    "    def method1(self, name):\n",
    "        self._name = name\n",
    "        \n",
    "    def method2(self):\n",
    "        print(self._name)\n"
   ]
  },
  {
   "cell_type": "code",
   "execution_count": 114,
   "id": "39724136",
   "metadata": {},
   "outputs": [],
   "source": [
    "obj1 = parent()\n",
    "obj1.method1(\"Kumar\")"
   ]
  },
  {
   "cell_type": "code",
   "execution_count": 115,
   "id": "c95ac7ef",
   "metadata": {},
   "outputs": [
    {
     "data": {
      "text/plain": [
       "'Kumar'"
      ]
     },
     "execution_count": 115,
     "metadata": {},
     "output_type": "execute_result"
    }
   ],
   "source": [
    "obj1._name"
   ]
  },
  {
   "cell_type": "code",
   "execution_count": 116,
   "id": "91b57a8b",
   "metadata": {},
   "outputs": [
    {
     "data": {
      "text/plain": [
       "2"
      ]
     },
     "execution_count": 116,
     "metadata": {},
     "output_type": "execute_result"
    }
   ],
   "source": [
    "1+1"
   ]
  },
  {
   "cell_type": "code",
   "execution_count": 117,
   "id": "760040b5",
   "metadata": {},
   "outputs": [
    {
     "data": {
      "text/plain": [
       "'ab'"
      ]
     },
     "execution_count": 117,
     "metadata": {},
     "output_type": "execute_result"
    }
   ],
   "source": [
    "\"a\"+\"b\""
   ]
  },
  {
   "cell_type": "code",
   "execution_count": 125,
   "id": "04790389",
   "metadata": {},
   "outputs": [],
   "source": [
    "def check_prime(n):\n",
    "    if n < 0:\n",
    "        print(\"n should be positive\")\n",
    "        return None\n",
    "    for i in range(2, n):\n",
    "        if n%i == 0:\n",
    "            print(\"Not a prime\")\n",
    "            return None\n",
    "    print(\"Prime\")"
   ]
  },
  {
   "cell_type": "code",
   "execution_count": 129,
   "id": "71e289eb",
   "metadata": {},
   "outputs": [
    {
     "name": "stdout",
     "output_type": "stream",
     "text": [
      "Not a prime\n"
     ]
    }
   ],
   "source": [
    "check_prime(174)"
   ]
  },
  {
   "cell_type": "code",
   "execution_count": null,
   "id": "90648315",
   "metadata": {},
   "outputs": [],
   "source": []
  }
 ],
 "metadata": {
  "kernelspec": {
   "display_name": "Python 3 (ipykernel)",
   "language": "python",
   "name": "python3"
  },
  "language_info": {
   "codemirror_mode": {
    "name": "ipython",
    "version": 3
   },
   "file_extension": ".py",
   "mimetype": "text/x-python",
   "name": "python",
   "nbconvert_exporter": "python",
   "pygments_lexer": "ipython3",
   "version": "3.9.7"
  }
 },
 "nbformat": 4,
 "nbformat_minor": 5
}
